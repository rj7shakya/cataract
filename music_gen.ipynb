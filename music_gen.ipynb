{
  "nbformat": 4,
  "nbformat_minor": 0,
  "metadata": {
    "colab": {
      "name": "music_gen.ipynb",
      "provenance": [],
      "authorship_tag": "ABX9TyMUXITcMWAcXk5+4AME5ege",
      "include_colab_link": true
    },
    "kernelspec": {
      "name": "python3",
      "display_name": "Python 3"
    }
  },
  "cells": [
    {
      "cell_type": "markdown",
      "metadata": {
        "id": "view-in-github",
        "colab_type": "text"
      },
      "source": [
        "<a href=\"https://colab.research.google.com/github/rj7shakya/cataract/blob/master/music_gen.ipynb\" target=\"_parent\"><img src=\"https://colab.research.google.com/assets/colab-badge.svg\" alt=\"Open In Colab\"/></a>"
      ]
    },
    {
      "cell_type": "code",
      "metadata": {
        "id": "dVNX4y28V247",
        "colab_type": "code",
        "colab": {
          "base_uri": "https://localhost:8080/",
          "height": 120
        },
        "outputId": "31b6ae34-0cc3-4a17-c045-274fd6b0b921"
      },
      "source": [
        "from google.colab import drive\n",
        "drive.mount('/content/drive')"
      ],
      "execution_count": 1,
      "outputs": [
        {
          "output_type": "stream",
          "text": [
            "Go to this URL in a browser: https://accounts.google.com/o/oauth2/auth?client_id=947318989803-6bn6qk8qdgf4n4g3pfee6491hc0brc4i.apps.googleusercontent.com&redirect_uri=urn%3aietf%3awg%3aoauth%3a2.0%3aoob&response_type=code&scope=email%20https%3a%2f%2fwww.googleapis.com%2fauth%2fdocs.test%20https%3a%2f%2fwww.googleapis.com%2fauth%2fdrive%20https%3a%2f%2fwww.googleapis.com%2fauth%2fdrive.photos.readonly%20https%3a%2f%2fwww.googleapis.com%2fauth%2fpeopleapi.readonly\n",
            "\n",
            "Enter your authorization code:\n",
            "··········\n",
            "Mounted at /content/drive\n"
          ],
          "name": "stdout"
        }
      ]
    },
    {
      "cell_type": "code",
      "metadata": {
        "id": "16J_TaB6XAdT",
        "colab_type": "code",
        "colab": {
          "base_uri": "https://localhost:8080/",
          "height": 150
        },
        "outputId": "87a917e3-9da2-4631-e9bc-94093f19084e"
      },
      "source": [
        "!ls '/content/drive/My Drive/schubert'"
      ],
      "execution_count": 2,
      "outputs": [
        {
          "output_type": "stream",
          "text": [
            "schu_143_1.mid\t  schub_d960_2.mid     schubert_D935_2.mid  schumm-2.mid\n",
            "schu_143_2.mid\t  schub_d960_3.mid     schubert_D935_3.mid  schumm-3.mid\n",
            "schu_143_3.mid\t  schub_d960_4.mid     schubert_D935_4.mid  schumm-4.mid\n",
            "schub_d760_1.mid  schubert_D850_1.mid  schuim-1.mid\t    schumm-5.mid\n",
            "schub_d760_2.mid  schubert_D850_2.mid  schuim-2.mid\t    schumm-6.mid\n",
            "schub_d760_3.mid  schubert_D850_3.mid  schuim-3.mid\n",
            "schub_d760_4.mid  schubert_D850_4.mid  schuim-4.mid\n",
            "schub_d960_1.mid  schubert_D935_1.mid  schumm-1.mid\n"
          ],
          "name": "stdout"
        }
      ]
    },
    {
      "cell_type": "code",
      "metadata": {
        "id": "Oegh_q03XF7F",
        "colab_type": "code",
        "colab": {}
      },
      "source": [
        ""
      ],
      "execution_count": 0,
      "outputs": []
    }
  ]
}